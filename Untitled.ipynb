{
 "cells": [
  {
   "cell_type": "code",
   "execution_count": 29,
   "id": "4f2f3ab7",
   "metadata": {},
   "outputs": [],
   "source": [
    "import pandas as pd\n",
    "import numpy as np\n",
    "\n",
    "from sklearn.preprocessing import StandardScaler \n",
    "from sklearn.model_selection import train_test_split\n",
    "from sklearn.model_selection import StratifiedKFold, KFold\n",
    "from sklearn.linear_model import SGDClassifier, LogisticRegression\n",
    "from sklearn.ensemble import VotingClassifier\n",
    "from joblib import dump, load\n",
    "\n",
    "\n",
    "from sklearn.ensemble import RandomForestClassifier\n",
    "from sklearn.svm import SVC\n",
    "from xgboost import XGBClassifier\n",
    "\n",
    "from sklearn.metrics import accuracy_score, confusion_matrix\n",
    "\n",
    "import matplotlib.pyplot as plt\n",
    "import seaborn as sns"
   ]
  },
  {
   "cell_type": "code",
   "execution_count": 37,
   "id": "e4691aac",
   "metadata": {},
   "outputs": [],
   "source": [
    "X_train = pd.read_csv('../data/train - train.csv')\n",
    "# X_test = pd.read_csv('../data/test - test.csv')\n",
    "# X_test.drop(columns=['id'], inplace=True)\n",
    "remove_feat = []\n",
    "X_train.drop(columns= remove_feat, inplace=True)"
   ]
  },
  {
   "cell_type": "code",
   "execution_count": 38,
   "id": "c519b1b2",
   "metadata": {},
   "outputs": [],
   "source": [
    "def normalize(df):\n",
    "    feat = ['battery_power','clock_speed', 'fc', 'int_memory', 'm_dep', 'mobile_wt', 'n_cores', 'pc', 'px_height', 'px_width', 'ram', 'sc_h', 'sc_w', 'talk_time']\n",
    "    feat = [f for f in feat if f not in remove_feat]\n",
    "    scaler = StandardScaler()\n",
    "    df[feat] = scaler.fit_transform(df[feat])\n",
    "    return df\n",
    "\n",
    "def fill_missing_values(df):\n",
    "    feat_mean = ['battery_power','clock_speed', 'fc', 'int_memory', 'm_dep', 'mobile_wt', 'n_cores', 'pc', 'px_height', 'px_width', 'ram', 'sc_h', 'sc_w', 'talk_time']\n",
    "    feat_mode = ['blue', 'dual_sim', 'four_g', 'three_g', 'touch_screen', 'wifi']\n",
    "    feat_mean = [f for f in feat_mean if f not in remove_feat]\n",
    "    feat_mode = [f for f in feat_mode if f not in remove_feat]\n",
    "    # filling missing values based on X_train (in production time, could be on the entire dataset instead of X_train, but not a big deal anyway)\n",
    "    means = X_train[feat_mean].mean().to_dict()\n",
    "    modes = X_train[feat_mode].mode().iloc[0].to_dict()\n",
    "    \n",
    "    df.fillna(means, inplace=True)\n",
    "    df.fillna(modes, inplace=True)\n",
    "    return df\n",
    "\n",
    "def prepare_data(data):\n",
    "    data = normalize(data)\n",
    "    data = fill_missing_values(data)\n",
    "    return data\n",
    "\n",
    "def predict(x):\n",
    "    # data preprocessing \n",
    "    x = prepare_data(x)\n",
    "    \n",
    "    #load models\n",
    "    folds = []\n",
    "    for i in range(5):\n",
    "        folds.append(load('./models/'+'model_'+str(i)+'.joblib'))\n",
    "        \n",
    "    #predictions \n",
    "    all_preds = []\n",
    "    for model in folds:\n",
    "        pred = model.predict(x)\n",
    "        all_preds.append(pred)\n",
    "    y_pred = np.rint(np.mean(all_preds, axis=0))\n",
    "    return y_pred"
   ]
  },
  {
   "cell_type": "code",
   "execution_count": 44,
   "id": "f73fa59d",
   "metadata": {},
   "outputs": [],
   "source": [
    "# inference\n",
    "# predict(X_test)"
   ]
  },
  {
   "cell_type": "code",
   "execution_count": null,
   "id": "95219b12",
   "metadata": {},
   "outputs": [],
   "source": []
  }
 ],
 "metadata": {
  "kernelspec": {
   "display_name": "Python 3 (ipykernel)",
   "language": "python",
   "name": "python3"
  },
  "language_info": {
   "codemirror_mode": {
    "name": "ipython",
    "version": 3
   },
   "file_extension": ".py",
   "mimetype": "text/x-python",
   "name": "python",
   "nbconvert_exporter": "python",
   "pygments_lexer": "ipython3",
   "version": "3.11.7"
  }
 },
 "nbformat": 4,
 "nbformat_minor": 5
}
